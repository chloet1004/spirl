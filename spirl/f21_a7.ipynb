{
 "cells": [
  {
   "cell_type": "markdown",
   "metadata": {},
   "source": [
    "# Assignment 7 (Nov 2)\n",
    "\n",
    "Today's topics are:\n",
    "\n",
    "1. Efficiency, indexing, vectorization\n",
    "2. Timing code\n",
    "3. Using vectorized functions/methods\n",
    "4. Easy parallelization with Numba\n",
    "\n",
    "## Readings (optional)\n",
    "\n",
    "If you find this week's material new or challenging, you may want to read through some or all the following resources while working on your assignment:\n",
    "\n"
   ]
  },
  {
   "cell_type": "code",
   "execution_count": 1,
   "metadata": {},
   "outputs": [],
   "source": [
    "import numpy as np\n",
    "import matplotlib.pyplot as plt\n",
    "plt.style.use('seaborn')"
   ]
  },
  {
   "cell_type": "markdown",
   "metadata": {},
   "source": [
    "## Efficiency, indexing, vectorization\n",
    "\n",
    "Now that we've learned several workflows in Python, some of which can take a long time (Monte Carlo methods and MCMC), we are going to talk about:\n",
    "\n",
    "- how to time your code\n",
    "- how to estimate how long your code will take (and when you can't)\n",
    "- how to use indexing / vectorization to avoid slow loops\n",
    "- how to use Numba to speed up slow loops\n",
    "\n",
    "\n",
    "### Timing code\n",
    "\n",
    "To understand how fast / efficient our code is, we will first need to learn how long our code takes to run.\n",
    "\n",
    "The most basic way to time code is using the built-in Python `time` module.\n",
    "\n",
    "The function `time.time()` gives us a timestamp from when it is called. This timstamp is a number in seconds with ~microsecond (6 decimal) precision on Linux / Mac.\n",
    "\n",
    "Note: The precision of `time` on Windows is actually closer to 0.01 seconds in practice, so be careful comparing very short time periods."
   ]
  },
  {
   "cell_type": "code",
   "execution_count": 3,
   "metadata": {},
   "outputs": [
    {
     "name": "stdout",
     "output_type": "stream",
     "text": [
      "Time to sort 1e+07 numbers: 1.449 s\n"
     ]
    }
   ],
   "source": [
    "import time\n",
    "\n",
    "n = 10000000\n",
    "time_start = time.time()\n",
    "x = np.random.rand(n)\n",
    "y = np.sort(x)\n",
    "time_end = time.time()\n",
    "\n",
    "time_delta = time_end - time_start\n",
    "print(f\"Time to sort {n:.0e} numbers: {time_delta:.3f} s\")"
   ]
  },
  {
   "cell_type": "markdown",
   "metadata": {},
   "source": [
    "Try re-running the above cell several times. \n",
    "\n",
    "You should notice that the timing for each run changes slightly. This can be due to:\n",
    "\n",
    "- How much work there is to do (e.g. since randomness is involved)\n",
    "- How many background tasks are running on your computer when you run the cell\n",
    "\n",
    "To get an accurate estimate of how long our code takes to run, as scientists we can run an experiment by:\n",
    "\n",
    "1.  Closing all background programs so only Python is running\n",
    "2.  Time our code chunk several times\n",
    "3.  Take the average and standard deviation of all of the runs"
   ]
  },
  {
   "cell_type": "code",
   "execution_count": 4,
   "metadata": {},
   "outputs": [
    {
     "name": "stdout",
     "output_type": "stream",
     "text": [
      "Run 0 Time to sort 1e+07 numbers: 1.621 s\n",
      "Run 1 Time to sort 1e+07 numbers: 1.488 s\n",
      "Run 2 Time to sort 1e+07 numbers: 1.585 s\n",
      "Run 3 Time to sort 1e+07 numbers: 1.715 s\n",
      "Run 4 Time to sort 1e+07 numbers: 1.631 s\n",
      "Run 5 Time to sort 1e+07 numbers: 1.680 s\n",
      "Run 6 Time to sort 1e+07 numbers: 1.474 s\n",
      "Run 7 Time to sort 1e+07 numbers: 1.545 s\n",
      "Run 8 Time to sort 1e+07 numbers: 1.661 s\n",
      "Run 9 Time to sort 1e+07 numbers: 1.457 s\n",
      "Avg time to sort 1e+07 numbers: 1.586 +/- 0.086 s (ntrials: 10)\n"
     ]
    }
   ],
   "source": [
    "n = 10000000\n",
    "timings = []\n",
    "\n",
    "for i in range(10):\n",
    "    time_start = time.time()\n",
    "    x = np.random.rand(n)\n",
    "    y = np.sort(x)\n",
    "    time_end = time.time()\n",
    "    time_delta = time_end - time_start\n",
    "    print(f\"Run {i} Time to sort {n:.0e} numbers: {time_delta:.3f} s\")\n",
    "    timings.append(time_delta)\n",
    "\n",
    "time_mean = np.mean(timings)\n",
    "time_std = np.std(timings)\n",
    "print(f\"Avg time to sort {n:.0e} numbers: {time_mean:.3f} +/- {time_std:.3f} s (ntrials: {len(timings)})\")"
   ]
  },
  {
   "cell_type": "markdown",
   "metadata": {},
   "source": [
    "Conveniently, the **IPython** framework that Jupyter runs on has some built-in functions for timing code. Called *IPython magics*, we can invoke them with `%` and the main ones we'll use are `time` and `timeit` (See all IPython magics [here](https://ipython.readthedocs.io/en/stable/interactive/magics.html))."
   ]
  },
  {
   "cell_type": "code",
   "execution_count": 5,
   "metadata": {},
   "outputs": [
    {
     "name": "stdout",
     "output_type": "stream",
     "text": [
      "CPU times: user 1.49 s, sys: 90.3 ms, total: 1.58 s\n",
      "Wall time: 1.57 s\n"
     ]
    }
   ],
   "source": [
    "%%time\n",
    "\n",
    "x = np.random.rand(n)\n",
    "y = np.sort(x)"
   ]
  },
  {
   "cell_type": "markdown",
   "metadata": {},
   "source": [
    "Here we get a dew outputs, but the one we care about is **Wall time** (the total time to runn the cell).\n",
    "\n",
    "While `%%time` will time an entire cell If we want to time a specific line of code, we can use `%time` instead:"
   ]
  },
  {
   "cell_type": "code",
   "execution_count": 6,
   "metadata": {},
   "outputs": [
    {
     "name": "stdout",
     "output_type": "stream",
     "text": [
      "CPU times: user 1.4 s, sys: 29.8 ms, total: 1.43 s\n",
      "Wall time: 1.43 s\n"
     ]
    }
   ],
   "source": [
    "x = np.random.rand(n)\n",
    "%time y = np.sort(x)"
   ]
  },
  {
   "cell_type": "markdown",
   "metadata": {},
   "source": [
    "We saw above that we often want to run our code multiple times to get the average runtime. We can do this with the `%%timeit` magic."
   ]
  },
  {
   "cell_type": "code",
   "execution_count": 7,
   "metadata": {},
   "outputs": [
    {
     "name": "stdout",
     "output_type": "stream",
     "text": [
      "1.45 s ± 50.5 ms per loop (mean ± std. dev. of 7 runs, 1 loop each)\n"
     ]
    }
   ],
   "source": [
    "%%timeit\n",
    "\n",
    "x = np.random.rand(n)\n",
    "y = np.sort(x)"
   ]
  },
  {
   "cell_type": "markdown",
   "metadata": {},
   "source": [
    "## Built-in vectorized methods\n",
    "\n",
    "Here we will use what we learned about timing code to investigate a few different ways of computing the maximum of a list / array. Our four options for computing the max are:\n",
    "\n",
    "1. Using a for loop\n",
    "2. Python built-in `max()` \n",
    "3. NumPy function `np.max()`\n",
    "4. NumPy array method `np.ndarray.max()`\n",
    "\n",
    "First let's set up an example array to pull the maximum from:"
   ]
  },
  {
   "cell_type": "code",
   "execution_count": 9,
   "metadata": {},
   "outputs": [],
   "source": [
    "arr = np.array([1, 7, 2, 9, 1, 2, 3, 0, 4, 8])"
   ]
  },
  {
   "cell_type": "markdown",
   "metadata": {},
   "source": [
    "Now let's show our 4 options of computing the max and make sure they work!"
   ]
  },
  {
   "cell_type": "code",
   "execution_count": 10,
   "metadata": {},
   "outputs": [
    {
     "name": "stdout",
     "output_type": "stream",
     "text": [
      "For loop: 9\n",
      "Python max(): 9\n",
      "NumPy np.max(): 9\n",
      "NumPy array.max(): 9\n"
     ]
    }
   ],
   "source": [
    "def max_loop(arr):\n",
    "    \"\"\"\n",
    "    Return the maximum value in an array.\n",
    "    \"\"\"\n",
    "    maxval = arr[0]\n",
    "    for val in arr:\n",
    "        if val > maxval:\n",
    "            maxval = val\n",
    "    return maxval\n",
    "\n",
    "# 1. For loop\n",
    "max1 = max_loop(arr)\n",
    "print(f\"For loop: {max1}\")\n",
    "\n",
    "# 2. Python max()\n",
    "max2 = max(arr)\n",
    "print(f\"Python max(): {max2}\")\n",
    "\n",
    "# 3. NumPy np.max()\n",
    "max3 = np.max(arr)\n",
    "print(f\"NumPy np.max(): {max3}\")\n",
    "\n",
    "# 4. NumPy array.max()\n",
    "max4 = arr.max()\n",
    "print(f\"NumPy array.max(): {max4}\")"
   ]
  },
  {
   "cell_type": "markdown",
   "metadata": {},
   "source": [
    "Now we have 4 ways of computing the maximum of an array, but we'll have to test on much longer arrays to start to see differences in speed. Let's use `np.random` to make a long random array.\n",
    "\n",
    "Let's also time our loop function with the `%%timeit` IPython magic (see [docs](https://ipython.readthedocs.io/en/stable/interactive/magics.html#magic-timeit)).\n",
    "\n",
    "Remember: `%%magic` is for a whole cell, `%magic` is when using inline."
   ]
  },
  {
   "cell_type": "code",
   "execution_count": 11,
   "metadata": {},
   "outputs": [
    {
     "name": "stdout",
     "output_type": "stream",
     "text": [
      "110 ms ± 18.5 ms per loop (mean ± std. dev. of 7 runs, 10 loops each)\n"
     ]
    }
   ],
   "source": [
    "%%timeit\n",
    "\n",
    "seed = 999  # Change for different random results\n",
    "rng = np.random.default_rng(seed)  # Init RNG\n",
    "ndraws = 1000000  # Number of random numbers to generate\n",
    "\n",
    "# Random array of length ndraws (values between 0 and 1)\n",
    "arr = rng.random(ndraws)\n",
    "\n",
    "max1 = max_loop(arr)"
   ]
  },
  {
   "cell_type": "markdown",
   "metadata": {},
   "source": [
    "Q: What is wrong with the above example?\n",
    "\n",
    "Hint: Recall we want to time the `max_loop` function only.\n",
    "\n",
    "A: What we're actually timing above is the entire cell, including making our random array. If we want a fair comparison between our max methods, we need to isolate only the work of each function.\n",
    "\n",
    "Let's use the inline `%timeit` to time our 4 max functions."
   ]
  },
  {
   "cell_type": "code",
   "execution_count": 12,
   "metadata": {},
   "outputs": [
    {
     "name": "stdout",
     "output_type": "stream",
     "text": [
      "1. For loop\n",
      "102 ms ± 9.68 ms per loop (mean ± std. dev. of 7 runs, 10 loops each)\n",
      "\n",
      "2. Python max()\n",
      "79.9 ms ± 8.29 ms per loop (mean ± std. dev. of 7 runs, 10 loops each)\n",
      "\n",
      "3. NumPy np.max()\n",
      "667 µs ± 32.9 µs per loop (mean ± std. dev. of 7 runs, 1000 loops each)\n",
      "\n",
      "4. NumPy array.max()\n",
      "602 µs ± 27 µs per loop (mean ± std. dev. of 7 runs, 1000 loops each)\n"
     ]
    }
   ],
   "source": [
    "# Compute this ahead of time so we don't time it\n",
    "seed = 999  # Change for different random results\n",
    "rng = np.random.default_rng(seed)  # Init RNG\n",
    "ndraws = 1000000  # Number of random numbers to generate\n",
    "\n",
    "# Random array of length ndraws (values between 0 and 1)\n",
    "arr = rng.random(ndraws)\n",
    "\n",
    "# Time our 4 different methods\n",
    "print('1. For loop')\n",
    "max1 = %timeit max_loop(arr)\n",
    "\n",
    "print('\\n2. Python max()')\n",
    "max2 = %timeit max(arr)\n",
    "\n",
    "print('\\n3. NumPy np.max()')\n",
    "max3 = %timeit np.max(arr)\n",
    "\n",
    "print('\\n4. NumPy array.max()')\n",
    "max4 = %timeit arr.max()"
   ]
  },
  {
   "cell_type": "markdown",
   "metadata": {},
   "source": [
    "Seems like we have our ranking!\n",
    "\n",
    "1. `np.array.max()` faster than `np.max()` but within errors\n",
    "2. Python `max()`\n",
    "3. for loop\n",
    "\n",
    "We should get the same ranking if we feed in a Python list `[]` rather than NumPy array right?\n",
    "\n",
    "Let's try it:"
   ]
  },
  {
   "cell_type": "code",
   "execution_count": 13,
   "metadata": {},
   "outputs": [
    {
     "name": "stdout",
     "output_type": "stream",
     "text": [
      "1. For loop\n",
      "52.7 ms ± 7.82 ms per loop (mean ± std. dev. of 7 runs, 10 loops each)\n",
      "\n",
      "2. Python max()\n",
      "31.1 ms ± 2.87 ms per loop (mean ± std. dev. of 7 runs, 10 loops each)\n",
      "\n",
      "3. NumPy np.max()\n",
      "53.4 ms ± 3.53 ms per loop (mean ± std. dev. of 7 runs, 10 loops each)\n",
      "\n",
      "4. NumPy array.max()\n",
      "54 ms ± 3.55 ms per loop (mean ± std. dev. of 7 runs, 10 loops each)\n"
     ]
    }
   ],
   "source": [
    "# Compute this ahead of time so we don't time it\n",
    "seed = 999  # Change for different random results\n",
    "rng = np.random.default_rng(seed)  # Init RNG\n",
    "ndraws = 1000000  # Number of random numbers to generate\n",
    "\n",
    "# Random array of length ndraws (values between 0 and 1)\n",
    "arr = rng.random(ndraws)\n",
    "lst = list(arr)\n",
    "\n",
    "# Time our 4 different methods\n",
    "print('1. For loop')\n",
    "max1 = %timeit max_loop(lst)\n",
    "\n",
    "print('\\n2. Python max()')\n",
    "max2 = %timeit max(lst)\n",
    "\n",
    "print('\\n3. NumPy np.max()')\n",
    "max3 = %timeit np.max(lst)\n",
    "\n",
    "print('\\n4. NumPy array.max()')\n",
    "max4 = %timeit np.array(lst).max()"
   ]
  },
  {
   "cell_type": "markdown",
   "metadata": {},
   "source": [
    "What happened here? It seems like the ranking switched:\n",
    "\n",
    "1. Python `max()`\n",
    "2. `np.max()` faster than `np.array.max()` but within errors\n",
    "3. for loop\n",
    "\n",
    "This brings up an interesting subtlety about coding in Python (and in general):\n",
    "\n",
    "**The data structure you choose can affect the efficiency of your program**\n",
    "\n",
    "Why is this happening? To find out, we'll notice 2 things about our timings.\n",
    "\n",
    "1. The `np.max` and `np.array.max()` methods were faster on NumPy arrays\n",
    "2. The built-in Python `max` method was faster on the Python list `[]`\n",
    "\n",
    "We could chalk this up to a platitude like, \n",
    "\n",
    "*\"Python `max()` is optimized for Python lists, while `np.max()` is optimized for NumPy arrays\"*. \n",
    "\n",
    "While this is partially true, if we understand the differences between lists and arrays, we can see there's a bit more going on here.\n",
    "\n",
    "| Python list | NumPy array |\n",
    "| - | - |\n",
    "| Can contain any object | Contains numerical data |\n",
    "| No fixed type (size) of elements | Fixed data type (size) of elements |\n",
    "| No `.max()` method | Has `.max()` method defined |\n",
    "\n",
    "Let's verify the data type of our NumPy array:"
   ]
  },
  {
   "cell_type": "code",
   "execution_count": 31,
   "metadata": {},
   "outputs": [
    {
     "data": {
      "text/plain": [
       "dtype('float64')"
      ]
     },
     "execution_count": 31,
     "metadata": {},
     "output_type": "execute_result"
    }
   ],
   "source": [
    "arr.dtype"
   ]
  },
  {
   "cell_type": "markdown",
   "metadata": {},
   "source": [
    "The fact that a NumPy array has a fixed data type and a defined length means that functions like `np.max()` can take advantage of super fast low-level algorithms (which run as compiled `C` code) to search, do math, comparisons, etc on our array.\n",
    "\n",
    "When a NumPy array is created, it blocks out a certain chunk of your computer's memory so that all future operations on the array are speedy! BUT this takes a bit of time to save time later.\n",
    "\n",
    "To find a maximum, all of our methods need to look at every element in the list/array, BUT NumPy is faster for 2 reasons:\n",
    "\n",
    "- it blocks off a place in memory \n",
    "- the max function can very quickly in **C**\n",
    "\n",
    "So why aren't the NumPy functions faster on lists as well?\n",
    "\n",
    "As you can see in the line `%timeit np.array(lst).max()`, the Python list had no `.max()` so we had to first *convert the data type* from list to NumPy array and then call `.max()`. This is also what is happening below the hood when we call `np.max(lst)` on a regular list.\n",
    "\n",
    "So the reason Python `max()` is slower on arrays is that NumPy has to block off memory and then convert the list to an array (which takes time), before running the speedier NumPy algorithm on it. Overall, converting to an array and then finding the max is slower than just finding the max (like Python does with `max()`).\n",
    "\n",
    "This leads us to our rules of thumb for efficient science code:\n",
    "\n",
    "## Efficiency rules of thumb\n",
    "\n",
    "1. Use the proper data structure for the job\n",
    "  - NumPy arrays are suited for numerical data\n",
    "  - Pandas DataFrames are suited for table data\n",
    "  - Python Lists are suited to non-numerical or mixed type data\n",
    "2. Use the optimized built-in functions\n",
    "  - Use NumPy's functions/methods on arrays\n",
    "  - Use the Pandas methods on DataFrames\n",
    "3. Avoid converting back and forth between data types\n",
    "  - Keep your numerical data in NumPy arrays wherever possible\n",
    "  - Keep your table data in DataFrames wherever possible\n",
    "  - If you need to use a loop, allocate your arrays (e.g with `np.zeros`) ahead of time rather than appending to a list and converting to an array later\n",
    "4. Avoid custom Python loops wherever possible (see rule 2)"
   ]
  },
  {
   "cell_type": "markdown",
   "metadata": {},
   "source": [
    "## Time scaling\n",
    "\n",
    "The **scaling** behavior of our code describes how quickly it runs as the inputs get larger. Let's use our max situation again.\n",
    "\n",
    "There were 8 situations total:\n",
    "\n",
    "1. np.max(array) and np.max(list)\n",
    "2. array.max() and np.array(list).max()\n",
    "3. max(array) and max(list)\n",
    "4. max_loop(array) and max_loop(list)\n",
    "\n",
    "Let's look at the best from each category we identified before, so:\n",
    "\n",
    "1. np.max(array)\n",
    "2. array.max()\n",
    "3. max(list)\n",
    "4. max_loop(list)\n",
    "\n",
    "To investigate the scaling behavior, we will run the timing code with increasing `ndraws` (length of random array).\n",
    "\n",
    "**Note:** Most operations (like max) will take exponentially longer as the array size increases. For now, we will only show `ndraws = [10, 100, 1000]`, but will use parallel programming (multiprocessing) later to speed things up!"
   ]
  },
  {
   "cell_type": "code",
   "execution_count": 14,
   "metadata": {},
   "outputs": [],
   "source": [
    "seed = 999  # Change for different random results\n",
    "rng = np.random.default_rng(seed)  # Init RNG\n",
    "ndraws_list = [1, 10, 100, 1000]  # Number of random numbers to generate\n",
    "\n",
    "timings = np.zeros((len(ndraws_list), 4))\n",
    "for i, ndraws in enumerate(ndraws_list):\n",
    "    arr = rng.random(ndraws)\n",
    "    lst = list(arr)\n",
    "\n",
    "    t1 = %timeit -o -q max_loop(lst)\n",
    "    timings[i, 0] = t1.average\n",
    "    t2 = %timeit -o -q max(lst)\n",
    "    timings[i, 1] = t2.average\n",
    "    t3 = %timeit -o -q np.max(arr)\n",
    "    timings[i, 2] = t3.average\n",
    "    t4 = %timeit -o -q arr.max()\n",
    "    timings[i, 3] = t4.average\n"
   ]
  },
  {
   "cell_type": "code",
   "execution_count": 15,
   "metadata": {},
   "outputs": [
    {
     "name": "stderr",
     "output_type": "stream",
     "text": [
      "findfont: Font family ['Helvetica'] not found. Falling back to DejaVu Sans.\n"
     ]
    },
    {
     "data": {
      "image/png": "[encoded data removed]",
      "text/plain": [
       "<Figure size 576x432 with 1 Axes>"
      ]
     },
     "metadata": {},
     "output_type": "display_data"
    }
   ],
   "source": [
    "label_names = ['max_loop(lst)', 'max(lst)', 'np.max(arr)', 'arr.max()']\n",
    "\n",
    "# plot the data\n",
    "f = plt.figure(facecolor='white', figsize=(8, 6))\n",
    "ax = plt.subplot(111)\n",
    "\n",
    "for i, label in enumerate(label_names):\n",
    "    ax.plot(ndraws_list, timings[:, i], '.-', lw=.5, label=label)\n",
    "\n",
    "ax.set_xlabel('ndraws', fontname='Helvetica')\n",
    "ax.set_ylabel(r'run time [sec]', fontname='Helvetica')\n",
    "ax.set_xscale('log')\n",
    "ax.set_yscale('log')\n",
    "ax.legend()\n",
    "ax.text(0.45, 0.01, \"array = np.random(ndraws)\\nlist = list(array)\", ha='left', \n",
    "        va='bottom', transform=ax.transAxes, family='monospace')\n",
    "\n",
    "plt.show()"
   ]
  },
  {
   "cell_type": "markdown",
   "metadata": {},
   "source": [
    "## Parallel computing (multiprocessing)\n",
    "\n",
    "Reading:\n",
    "* [A beginners guide to Multi-Processing in Python](https://www.analyticsvidhya.com/blog/2021/04/a-beginners-guide-to-multi-processing-in-python/)\n",
    "\n",
    "Two ways to use multiprocessing:\n",
    "\n",
    "* python build-in function: `multiprocessing`\n",
    "* [Parallel TQDM (pqdm)](https://pqdm.readthedocs.io/en/latest/readme.html)\n",
    "\n",
    "\n",
    "To get pqdm, activate your conda environment and run:\n",
    "\n",
    "`conda install -c conda-forge pqdm`\n",
    "\n",
    "It will come with the dependency, `tqdm` which means \"progress\" in Arabic ([see docs here](https://tqdm.github.io)).\n",
    "\n",
    "The main function of `tqdm` is to have a progress bar for your loops. Just wrap your loop iterable e.g. `tqdm(range(10))` and you'll see a progress bar with the average time to run each iteration and estimated total run time."
   ]
  },
  {
   "cell_type": "code",
   "execution_count": 5,
   "metadata": {},
   "outputs": [
    {
     "name": "stderr",
     "output_type": "stream",
     "text": [
      "100%|██████████| 10/10 [00:13<00:00,  1.30s/it]\n"
     ]
    }
   ],
   "source": [
    "from tqdm import tqdm\n",
    "import time\n",
    "\n",
    "for i in tqdm(range(10)):\n",
    "    # Choose random sleep time between 0 and 3 seconds\n",
    "    time.sleep(np.random.randint(0, 3))"
   ]
  },
  {
   "cell_type": "markdown",
   "metadata": {},
   "source": [
    "For `pqdm`, the \"Parallel\" `tqdm`, we can time our loops but also run them in parallel.\n"
   ]
  },
  {
   "cell_type": "code",
   "execution_count": 12,
   "metadata": {},
   "outputs": [],
   "source": [
    "from pqdm.processes import pqdm\n",
    "# If you want threads instead:\n",
    "# from pqdm.threads import pqdm\n",
    "\n",
    "args = np.arange(50)\n",
    "# args = range(1,6) would also work\n",
    "\n",
    "def square(a):\n",
    "    return a*a"
   ]
  },
  {
   "cell_type": "code",
   "execution_count": 10,
   "metadata": {},
   "outputs": [
    {
     "name": "stdout",
     "output_type": "stream",
     "text": [
      "[0, 1, 4, 9, 16, 25, 36, 49, 64, 81, 100, 121, 144, 169, 196, 225, 256, 289, 324, 361, 400, 441, 484, 529, 576, 625, 676, 729, 784, 841, 900, 961, 1024, 1089, 1156, 1225, 1296, 1369, 1444, 1521, 1600, 1681, 1764, 1849, 1936, 2025, 2116, 2209, 2304, 2401]\n",
      "CPU times: user 442 µs, sys: 94 µs, total: 536 µs\n",
      "Wall time: 437 µs\n"
     ]
    }
   ],
   "source": [
    "%%time\n",
    "\n",
    "result = []\n",
    "for a in args:\n",
    "    result.append(a*a)\n",
    "\n",
    "print(result)"
   ]
  },
  {
   "cell_type": "code",
   "execution_count": 11,
   "metadata": {},
   "outputs": [
    {
     "data": {
      "application/vnd.jupyter.widget-view+json": {
       "model_id": "b365135ff8a4478fbfbab66fb9c81241",
       "version_major": 2,
       "version_minor": 0
      },
      "text/plain": [
       "SUBMITTING | :   0%|          | 0/50 [00:00<?, ?it/s]"
      ]
     },
     "metadata": {},
     "output_type": "display_data"
    },
    {
     "data": {
      "application/vnd.jupyter.widget-view+json": {
       "model_id": "ae92848899db42d8866dd11a4375b5fd",
       "version_major": 2,
       "version_minor": 0
      },
      "text/plain": [
       "PROCESSING | :   0%|          | 0/50 [00:00<?, ?it/s]"
      ]
     },
     "metadata": {},
     "output_type": "display_data"
    },
    {
     "data": {
      "application/vnd.jupyter.widget-view+json": {
       "model_id": "a2325e2c43b74757824515d34f062692",
       "version_major": 2,
       "version_minor": 0
      },
      "text/plain": [
       "COLLECTING | :   0%|          | 0/50 [00:00<?, ?it/s]"
      ]
     },
     "metadata": {},
     "output_type": "display_data"
    },
    {
     "name": "stdout",
     "output_type": "stream",
     "text": [
      "[0, 1, 4, 9, 16, 25, 36, 49, 64, 81, 100, 121, 144, 169, 196, 225, 256, 289, 324, 361, 400, 441, 484, 529, 576, 625, 676, 729, 784, 841, 900, 961, 1024, 1089, 1156, 1225, 1296, 1369, 1444, 1521, 1600, 1681, 1764, 1849, 1936, 2025, 2116, 2209, 2304, 2401]\n",
      "CPU times: user 255 ms, sys: 114 ms, total: 369 ms\n",
      "Wall time: 294 ms\n"
     ]
    }
   ],
   "source": [
    "%%time\n",
    "\n",
    "result = pqdm(args, square, n_jobs=2)\n",
    "print(result)"
   ]
  },
  {
   "cell_type": "markdown",
   "metadata": {},
   "source": [
    "Now it time to use multiprocessing to run through the whole list `ndraws_list = [10, 100, 1000, 10000, 100000, 1000000]`"
   ]
  },
  {
   "cell_type": "code",
   "execution_count": 13,
   "metadata": {},
   "outputs": [],
   "source": [
    "rng = np.random.default_rng(999)\n",
    "ndraws_list = [10, 100, 1000]#, 10000, 100000, 1000000]\n",
    "\n",
    "def run_timeit(i):\n",
    "    ndraws = ndraws_list[i]\n",
    "    \n",
    "    rng = np.random.default_rng(999)\n",
    "    # numpy array\n",
    "    ramdon_array = rng.random(ndraws)\n",
    "    # python list\n",
    "    ramdon_list = list(ramdon_array)\n",
    "    \n",
    "    run_time_box = np.zeros(5)\n",
    "\n",
    "    r1 = %timeit -o -q np.max(ramdon_array)\n",
    "    run_time_box[0] = r1.average\n",
    "    r2 = %timeit -o -q ramdon_array.max()\n",
    "    run_time_box[1] = r2.average\n",
    "    r3 = %timeit -o -q max(ramdon_array)\n",
    "    run_time_box[2] = r3.average\n",
    "    r4 = %timeit -o -q np.max(ramdon_list)\n",
    "    run_time_box[3] = r4.average\n",
    "    r5 = %timeit -o -q max(ramdon_list)\n",
    "    run_time_box[4] = r5.average\n",
    "    \n",
    "    return run_time_box \n"
   ]
  },
  {
   "cell_type": "code",
   "execution_count": 14,
   "metadata": {},
   "outputs": [
    {
     "data": {
      "application/vnd.jupyter.widget-view+json": {
       "model_id": "1eaa0ee81d394bb7a6af1d40b825f493",
       "version_major": 2,
       "version_minor": 0
      },
      "text/plain": [
       "SUBMITTING | :   0%|          | 0/3 [00:00<?, ?it/s]"
      ]
     },
     "metadata": {},
     "output_type": "display_data"
    },
    {
     "data": {
      "application/vnd.jupyter.widget-view+json": {
       "model_id": "17ba771594b745fcb1788d1c4b861e40",
       "version_major": 2,
       "version_minor": 0
      },
      "text/plain": [
       "PROCESSING | :   0%|          | 0/3 [00:00<?, ?it/s]"
      ]
     },
     "metadata": {},
     "output_type": "display_data"
    },
    {
     "data": {
      "application/vnd.jupyter.widget-view+json": {
       "model_id": "e72fda16a66c409d948b2d3dade12594",
       "version_major": 2,
       "version_minor": 0
      },
      "text/plain": [
       "COLLECTING | :   0%|          | 0/3 [00:00<?, ?it/s]"
      ]
     },
     "metadata": {},
     "output_type": "display_data"
    }
   ],
   "source": [
    "# you can open your terminal and use `top` or `htop` to see the cpu useage. \n",
    "outs = pqdm(np.arange(len(ndraws_list)), run_timeit, n_jobs=6)"
   ]
  },
  {
   "cell_type": "code",
   "execution_count": 14,
   "metadata": {},
   "outputs": [
    {
     "data": {
      "image/png": "[encoded data removed]",
      "text/plain": [
       "<Figure size 800x600 with 1 Axes>"
      ]
     },
     "metadata": {},
     "output_type": "display_data"
    }
   ],
   "source": [
    "# transfer list to array\n",
    "run_time_box = np.array(outs)\n",
    "\n",
    "label_names = ['np.max(array)', 'array.max()', 'max(array)', 'np.max(list)', 'max(list)']\n",
    "\n",
    "# plot the data\n",
    "f = plt.figure(facecolor='white', figsize=(4,3), dpi=200 )\n",
    "ax = plt.subplot(111)\n",
    "\n",
    "for i, l in zip(range(5), label_names):\n",
    "    ax.plot(ndraws_list, run_time_box[:, i], '.-', lw=.5, label=l)\n",
    "\n",
    "ax.set_xlabel('ndraws', size='small', fontname='Helvetica')\n",
    "ax.set_ylabel(r'run time [sec]', size='small', fontname='Helvetica')\n",
    "ax.set_xscale('log')\n",
    "ax.set_yscale('log')\n",
    "ax.legend(fontsize='small')\n",
    "ax.text(0.45, -0.02, '''\n",
    "array = np.random(ndraws)\n",
    "list = list(array)\n",
    "''', ha='left', va='bottom', size='x-small', transform = ax.transAxes, \n",
    "family='monospace')\n",
    "\n",
    "plt.show()"
   ]
  },
  {
   "cell_type": "markdown",
   "metadata": {},
   "source": [
    "## Numba\n",
    "\n",
    "Here, we will give a quick example of how to use a package called `numba` to automatically compile your Python code to **C** which can *magically* speed up your code.\n",
    "\n",
    "We highly recommend checking out this more detailed [Introduction to Numba](https://nyu-cds.github.io/python-numba/) by New York University. It has step by step tutorial like this textbook and practice problems as well.\n",
    "\n",
    "Other Numba resources:\n",
    "\n",
    "- [Numba docs: 5 minute guide to Numba](https://numba.pydata.org/numba-doc/latest/user/5minguide.html)\n",
    "- [Data Frog blog: Make Python Fast with Numba](https://thedatafrog.com/en/articles/make-python-fast-numba/)\n",
    "- [NumPy supported functions in Numba](https://numba.pydata.org/numba-doc/dev/reference/numpysupported.html)\n",
    "\n",
    "The example we will use is the Monte Carlo calculation of pi we did before!\n",
    "\n",
    "Let's time our original solutions first (for loop and vectorized)."
   ]
  },
  {
   "cell_type": "code",
   "execution_count": 9,
   "metadata": {},
   "outputs": [],
   "source": [
    "# Use this number of draws for our MC examples\n",
    "n_draws = int(1e8)"
   ]
  },
  {
   "cell_type": "markdown",
   "metadata": {},
   "source": [
    "### Method 1: Python code only (for loop, no NumPy, no Numba)\n",
    "\n",
    "To solve our problem with only Python, we will have to use the built-in `random` module in Python."
   ]
  },
  {
   "cell_type": "code",
   "execution_count": 12,
   "metadata": {},
   "outputs": [
    {
     "name": "stdout",
     "output_type": "stream",
     "text": [
      "41.6 µs ± 3.1 µs per loop (mean ± std. dev. of 4 runs, 10000 loops each)\n",
      "np.pi: 3.14159265\n"
     ]
    },
    {
     "ename": "NameError",
     "evalue": "name 'pi1' is not defined",
     "output_type": "error",
     "traceback": [
      "\u001b[0;31m---------------------------------------------------------------------------\u001b[0m",
      "\u001b[0;31mNameError\u001b[0m                                 Traceback (most recent call last)",
      "\u001b[0;32m/tmp/ipykernel_707/2545526009.py\u001b[0m in \u001b[0;36m<module>\u001b[0;34m\u001b[0m\n\u001b[1;32m     11\u001b[0m \u001b[0mget_ipython\u001b[0m\u001b[0;34m(\u001b[0m\u001b[0;34m)\u001b[0m\u001b[0;34m.\u001b[0m\u001b[0mrun_line_magic\u001b[0m\u001b[0;34m(\u001b[0m\u001b[0;34m'timeit'\u001b[0m\u001b[0;34m,\u001b[0m \u001b[0;34m'-r 4 pi1 = pi(100)'\u001b[0m\u001b[0;34m)\u001b[0m\u001b[0;34m\u001b[0m\u001b[0;34m\u001b[0m\u001b[0m\n\u001b[1;32m     12\u001b[0m \u001b[0mprint\u001b[0m\u001b[0;34m(\u001b[0m\u001b[0;34mf\"np.pi: {np.pi:.8f}\"\u001b[0m\u001b[0;34m)\u001b[0m\u001b[0;34m\u001b[0m\u001b[0;34m\u001b[0m\u001b[0m\n\u001b[0;32m---> 13\u001b[0;31m \u001b[0mprint\u001b[0m\u001b[0;34m(\u001b[0m\u001b[0;34mf\"MC Pi: {pi1:.8f}\"\u001b[0m\u001b[0;34m)\u001b[0m\u001b[0;34m\u001b[0m\u001b[0;34m\u001b[0m\u001b[0m\n\u001b[0m",
      "\u001b[0;31mNameError\u001b[0m: name 'pi1' is not defined"
     ]
    }
   ],
   "source": [
    "import random\n",
    "def python_pi(n): \n",
    "  n_in_circle = 0 \n",
    "  for _ in range(n):\n",
    "    x = random.random()\n",
    "    y = random.random()\n",
    "    if (x**2 + y**2 < 1):\n",
    "      n_in_circle += 1\n",
    "  return 4*n_in_circle / n\n",
    "\n",
    "%timeit -r 4 python_pi(n_draws)"
   ]
  },
  {
   "cell_type": "markdown",
   "metadata": {},
   "source": [
    "### Method 2: Use NumPy random (for loop, NumPy, no Numba)\n",
    "\n",
    "Here we will use the NumPy basic random functions `np.random.random()`. Normally we want to use a RNG object, but we'll skip it for the sake for this example."
   ]
  },
  {
   "cell_type": "code",
   "execution_count": null,
   "metadata": {},
   "outputs": [],
   "source": [
    "import numpy as np\n",
    "def numpy_pi(n): \n",
    "  n_in_circle = 0 \n",
    "  for _ in range(n):\n",
    "    x = np.random.random()\n",
    "    y = np.random.random()\n",
    "    if (x**2+y**2 < 1):\n",
    "      n_in_circle += 1\n",
    "  return 4*n_in_circle / n\n",
    "\n",
    "%timeit -r 4 numpy_pi(n_draws)"
   ]
  },
  {
   "cell_type": "markdown",
   "metadata": {},
   "source": [
    "### Method 3: Use NumPy arrays (vectors, NumPy, no Numba)\n",
    "\n",
    "Here, we will skip the for loop entirely. We make our x and y random arrays and feed them into our equation of a circle directly. This is the **vectorized** solution."
   ]
  },
  {
   "cell_type": "code",
   "execution_count": 25,
   "metadata": {},
   "outputs": [
    {
     "name": "stdout",
     "output_type": "stream",
     "text": [
      "455 ms ± 71.5 ms per loop (mean ± std. dev. of 4 runs, 1 loop each)\n"
     ]
    }
   ],
   "source": [
    "def numpy_vector_pi(n): \n",
    "    x = np.random.random(n)\n",
    "    y = np.random.random(n)\n",
    "    n_in_circle = len(np.where(x**2+y**2 < 1)[0])\n",
    "    return 4*n_in_circle / n\n",
    "%timeit -r 4 numpy_vector_pi(n_draws)"
   ]
  },
  {
   "cell_type": "markdown",
   "metadata": {},
   "source": [
    "We can gain a little speed by avoiding creating intermediate arrays `x` and `y`, as well as using the simple sum of the `True` values in our equation rather than `np.where`."
   ]
  },
  {
   "cell_type": "code",
   "execution_count": 26,
   "metadata": {},
   "outputs": [
    {
     "name": "stdout",
     "output_type": "stream",
     "text": [
      "253 ms ± 14.1 ms per loop (mean ± std. dev. of 4 runs, 1 loop each)\n"
     ]
    }
   ],
   "source": [
    "def numpy_vector_pi(n): \n",
    "    n_in_circle = np.sum(np.random.random(n)**2 + np.random.random(n)**2 < 1)\n",
    "    return 4*n_in_circle / n\n",
    "%timeit -r 4 numpy_vector_pi(n_draws)"
   ]
  },
  {
   "cell_type": "markdown",
   "metadata": {},
   "source": [
    "This vectorized solution is about as quick as we can get just with Python / NumPy."
   ]
  },
  {
   "cell_type": "markdown",
   "metadata": {},
   "source": [
    "### Method 4: Use Numba to speed up Python loop (for loop, no NumPy, Numba)\n",
    "\n",
    "Numba has 2 main **decorators** that we can use to magically translate our function to compiled **C** code:\n",
    "\n",
    "1. `jit`: basic\n",
    "2. `njit`: \"no python\" mode, skips Python things\n",
    "\n",
    "Note: A decorator is a special type of function that changes the behavior of another function. We use a decorator with the `@` symbol on the line before a function definition, e.g.:\n",
    "\n",
    "```python\n",
    "@decorator\n",
    "def func():\n",
    "    # do stuff\n",
    "```\n",
    "\n",
    "The `njit` is a short form for `jit(nopython=True)`. This is usually the one we want (Numba will automatically change `njit` to `jit` if it needs to)."
   ]
  },
  {
   "cell_type": "code",
   "execution_count": 29,
   "metadata": {},
   "outputs": [
    {
     "name": "stdout",
     "output_type": "stream",
     "text": [
      "1.29 s ± 27 ms per loop (mean ± std. dev. of 4 runs, 1 loop each)\n"
     ]
    }
   ],
   "source": [
    "@njit  # same as using @jit(nopython=True)\n",
    "def fast_pi(n): \n",
    "  n_in_circle = 0 \n",
    "  for _ in range(n):\n",
    "    x = random.random()\n",
    "    y = random.random()\n",
    "    if (x**2+y**2 < 1):\n",
    "      n_in_circle += 1\n",
    "  return 4*n_in_circle / n\n",
    "%timeit -r 4 fast_pi(n_draws)"
   ]
  },
  {
   "cell_type": "markdown",
   "metadata": {},
   "source": [
    "### Method 5: Use Numba with NumPy loop (for loop, NumPy, Numba)\n",
    "\n",
    "Here we'll try using Numba on the Method 2 example."
   ]
  },
  {
   "cell_type": "code",
   "execution_count": 27,
   "metadata": {},
   "outputs": [
    {
     "name": "stdout",
     "output_type": "stream",
     "text": [
      "1.36 s ± 31.2 ms per loop (mean ± std. dev. of 4 runs, 1 loop each)\n"
     ]
    }
   ],
   "source": [
    "@njit\n",
    "def numpy_pi(n): \n",
    "  n_in_circle = 0 \n",
    "  for _ in range(n):\n",
    "    x = np.random.random()\n",
    "    y = np.random.random()\n",
    "    if (x**2+y**2 < 1):\n",
    "      n_in_circle += 1\n",
    "  return 4*n_in_circle / n\n",
    "\n",
    "%timeit -r 4 numpy_pi(n_draws)"
   ]
  },
  {
   "cell_type": "markdown",
   "metadata": {},
   "source": [
    "### Method 7: Use Numba with vectorized code (vector, NumPy, Numba)\n",
    "\n",
    "Here we will use Numba on Method 3."
   ]
  },
  {
   "cell_type": "code",
   "execution_count": 28,
   "metadata": {},
   "outputs": [
    {
     "name": "stdout",
     "output_type": "stream",
     "text": [
      "3.14 s ± 990 ms per loop (mean ± std. dev. of 4 runs, 1 loop each)\n"
     ]
    }
   ],
   "source": [
    "@njit\n",
    "def numpy_vector_pi(n): \n",
    "    n_in_circle = np.sum(np.random.random(n)**2 + np.random.random(n)**2 < 1)\n",
    "    return 4*n_in_circle / n\n",
    "%timeit -r 4 numpy_vector_pi(n_draws)"
   ]
  },
  {
   "cell_type": "markdown",
   "metadata": {},
   "source": [
    "### Method 8: Use Numba in parallel (for loop, NumPy, Numba parallel)\n",
    "\n",
    "We can add the option `(parallel=True)` to our Numba decorators to have it parallelize our loop automatically.\n",
    "\n",
    "One thing we have to do here is define our output array ahead of time so Numba knows where to store the parallel results."
   ]
  },
  {
   "cell_type": "code",
   "execution_count": 17,
   "metadata": {},
   "outputs": [
    {
     "data": {
      "text/plain": [
       "3.14181796"
      ]
     },
     "execution_count": 17,
     "metadata": {},
     "output_type": "execute_result"
    }
   ],
   "source": [
    "@njit(parallel=True)\n",
    "def numba_parallel_pi(n): \n",
    "  n_in_circle = np.zeros(n)\n",
    "  for i in range(n):\n",
    "    x = np.random.random()\n",
    "    y = np.random.random()\n",
    "    if (x**2+y**2 < 1):\n",
    "      n_in_circle[i] = 1\n",
    "  return 4*np.sum(n_in_circle) / n\n",
    "\n",
    "%timeit -r 4 numba_parallel_pi(n_draws)"
   ]
  },
  {
   "cell_type": "markdown",
   "metadata": {},
   "source": [
    "So it seems parallelization doesn't always speed up our work. The main reason is **overhead**. \n",
    "\n",
    "**Overhead** is the extra time introduced by our clever speedup techniques. Some of the hidden overhead in the above examples were:\n",
    "\n",
    "- Creating a large NumPy array\n",
    "- Having Numba convert our code to **C**\n",
    "- Having Numba parallelize our code (send it to different processes and wait for a result)\n",
    "\n",
    "If the work we are doing is really easy, the **overhead** we introduce by running it through Numba or parallelizing it can take just as long or longer than the work itself!\n",
    "\n",
    "This is why it is important to be able to run quick timing tests with small parts of our code before we dedicate a lot of time to making it more efficient!"
   ]
  },
  {
   "cell_type": "markdown",
   "metadata": {},
   "source": []
  }
 ],
 "metadata": {
  "interpreter": {
   "hash": "76763c35e7a05247309504c0f30fc56db9f5033c5012c4ffe5bcc1d11f2f1300"
  },
  "kernelspec": {
   "display_name": "Python 3.9.7 64-bit ('spirl': conda)",
   "name": "python3"
  },
  "language_info": {
   "codemirror_mode": {
    "name": "ipython",
    "version": 3
   },
   "file_extension": ".py",
   "mimetype": "text/x-python",
   "name": "python",
   "nbconvert_exporter": "python",
   "pygments_lexer": "ipython3",
   "version": "3.9.7"
  },
  "orig_nbformat": 4
 },
 "nbformat": 4,
 "nbformat_minor": 2
}
