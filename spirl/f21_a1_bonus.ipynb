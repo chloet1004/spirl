{
    "cells": [
        {
            "cell_type": "markdown",
            "metadata": {},
            "source": [
                "# Assignment 1 (BONUS)\n",
                "\n",
                "This page has a bonus exercise for assignment 1. Please complete it if you found assignment 1 to be easy or mostly review or if you want to extra challenge!\n",
                "\n",
                "## Advanced: Using Astropy\n",
                "\n",
                "Astropy is an astronomy Python package (read more [here](https://www.astropy.org/)) which provides many useful tools. Two tools that are particularly useful for assignment 1 are `astropy.constant` and `astropy.units`.\n",
                "\n",
                "The `astropy.constant` module has many scientific constants available so we don't need to Google them and copy / paste them into our code each time. See all built-in constants [here](https://docs.astropy.org/en/stable/constants/index.html).\n",
                "\n",
                "The `astropy.units` module allows us to do unit transformations so we never have to have headaches converting seconds to kilo-years ever again!.\n"
            ]
        },
        {
            "cell_type": "code",
            "execution_count": 1,
            "metadata": {},
            "outputs": [],
            "source": [
                "# Import both modules\n",
                "from astropy import constants as const\n",
                "from astropy import units as u\n",
                "import numpy as np\n"
            ]
        },
        {
            "cell_type": "markdown",
            "metadata": {},
            "source": [
                "Here we use the constants `g0` for gravitational acceleration on Earth and the unit `u.s` to give our time `t` units of seconds."
            ]
        },
        {
            "cell_type": "code",
            "execution_count": 2,
            "metadata": {},
            "outputs": [
                {
                    "name": "stdout",
                    "output_type": "stream",
                    "text": [
                        "On Earth, after 10.0 s sec, we will fall down 490.33 m\n"
                    ]
                }
            ],
            "source": [
                "g = const.g0\n",
                "t = 10 * u.s\n",
                "\n",
                "H = (1/2) * g * t**2\n",
                "print(f'On Earth, after {t} sec, we will fall down {H:1.2f}')"
            ]
        },
        {
            "cell_type": "markdown",
            "metadata": {},
            "source": [
                "If instead we want to specify time in hours, no problem!"
            ]
        },
        {
            "cell_type": "code",
            "execution_count": 3,
            "metadata": {},
            "outputs": [],
            "source": [
                "t = 1 * u.hour"
            ]
        },
        {
            "cell_type": "markdown",
            "metadata": {},
            "source": [
                "Now we just make sure to convert to seconds using `.cgs` to turn any units into *Centimeter-Gram-Second (CGS)* units."
            ]
        },
        {
            "cell_type": "code",
            "execution_count": null,
            "metadata": {},
            "outputs": [
                {
                    "name": "stdout",
                    "output_type": "stream",
                    "text": [
                        "63547091.99999999 m\n",
                        "On Earth, after 3600.0 s, we will fall donw 63547.09 km\n"
                    ]
                }
            ],
            "source": [
                "t = t.cgs\n",
                "H = (1/2) * g * t**2\n",
                "# print(H)\n",
                "H = H.to(u.km)\n",
                "\n",
                "print(f'On Earth, after {t}, we will fall donw {H:1.2f}')"
            ]
        },
        {
            "cell_type": "markdown",
            "metadata": {},
            "source": [
                "If we make sure to call `.cgs` in our function, we can be sure that no matter what units were on the number we passed in, we will be multiplying `g` and `t` in CGS units."
            ]
        },
        {
            "cell_type": "code",
            "execution_count": 6,
            "metadata": {},
            "outputs": [],
            "source": [
                "def free_fall(t):\n",
                "    g = const.g0.cgs\n",
                "    t = t.cgs\n",
                "    \n",
                "    H = 0.5 * g * t**2\n",
                "    return H"
            ]
        },
        {
            "cell_type": "markdown",
            "metadata": {},
            "source": [
                "Finally, we can use the `.to()` method to do a unit conversion to another unit that astropy recognizes."
            ]
        },
        {
            "cell_type": "code",
            "execution_count": 7,
            "metadata": {},
            "outputs": [
                {
                    "data": {
                        "text/latex": [
                            "$2.059421 \\times 10^{-7} \\; \\mathrm{pc}$"
                        ],
                        "text/plain": [
                            "<Quantity 2.059421e-07 pc>"
                        ]
                    },
                    "execution_count": 7,
                    "metadata": {},
                    "output_type": "execute_result"
                }
            ],
            "source": [
                "t = 10 * u.hour\n",
                "free_fall(t).to(u.pc)"
            ]
        },
        {
            "cell_type": "markdown",
            "metadata": {},
            "source": [
                "### [hands-on] Prove g is 9.8 on Earth\n",
                "\n",
                "Now that we've shown you an example of using Astropy, try to prove g is about 9.8 on Earth with Astropy using the following equation:\n",
                "\n",
                "$$\n",
                "F = ma = \\frac{GMm}{r^2}\n",
                "\\Longrightarrow a = \\frac{GM}{r^2}\n",
                "$$\n",
                "\n",
                "Don't forget to look up constants available in `astropy.constants` and convert to consistent units before doing any computations!"
            ]
        },
        {
            "cell_type": "code",
            "execution_count": null,
            "metadata": {},
            "outputs": [
                {
                    "name": "stdout",
                    "output_type": "stream",
                    "text": [
                        "979.8398133669465 cm / s2\n",
                        "9.798398133669465 m / s2\n"
                    ]
                }
            ],
            "source": [
                "# try it here\n",
                "G = const.G.cgs \n",
                "M = const.M_earth.cgs   \n",
                "r = const.R_earth.cgs  \n",
                "\n",
                "g = G * M / r**2\n",
                "\n",
                "print(g)\n",
                "print(g.to(u.m/u.s**2))\n",
                "\n"
            ]
        },
        {
            "cell_type": "markdown",
            "metadata": {},
            "source": [
                "(Optional) Commit and push this file with your assignment 1 submission to receive feedback! You could also update your assignment 1 solutions to use `astropy.constants` and `astropy.units` for more practice!\n",
                "\n",
                "See you next week!"
            ]
        }
    ],
    "metadata": {
        "kernelspec": {
            "display_name": "base",
            "language": "python",
            "name": "python3"
        },
        "language_info": {
            "codemirror_mode": {
                "name": "ipython",
                "version": 3
            },
            "file_extension": ".py",
            "mimetype": "text/x-python",
            "name": "python",
            "nbconvert_exporter": "python",
            "pygments_lexer": "ipython3",
            "version": "3.12.3"
        },
        "orig_nbformat": 4
    },
    "nbformat": 4,
    "nbformat_minor": 2
}
